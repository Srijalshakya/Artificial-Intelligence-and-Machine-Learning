{
  "nbformat": 4,
  "nbformat_minor": 0,
  "metadata": {
    "colab": {
      "provenance": []
    },
    "kernelspec": {
      "name": "python3",
      "display_name": "Python 3"
    },
    "language_info": {
      "name": "python"
    }
  },
  "cells": [
    {
      "cell_type": "markdown",
      "source": [
        "## 4.1"
      ],
      "metadata": {
        "id": "e8gfvSrkilPT"
      }
    },
    {
      "cell_type": "markdown",
      "source": [
        "### Task 1"
      ],
      "metadata": {
        "id": "TzIw-s31wBqI"
      }
    },
    {
      "cell_type": "code",
      "execution_count": 1,
      "metadata": {
        "colab": {
          "base_uri": "https://localhost:8080/"
        },
        "id": "diZoiJn6ebiY",
        "outputId": "4eb5cd4c-835b-43d4-aec1-ab2cc017baf6"
      },
      "outputs": [
        {
          "output_type": "stream",
          "name": "stdout",
          "text": [
            "Unit Converter\n",
            "1. Length (Meters to Feet / Feet to Meters)\n",
            "2. Weight (Kilograms to Pounds / Pounds to Kilograms)\n",
            "3. Volume (Liters to Gallons / Gallons to Liters)\n",
            "Select conversion type (1-3): 2\n",
            "Enter the value to convert: 2\n",
            "Enter 'kg_to_lbs' for kg to lbs or 'lbs_to_kg' for lbs to kg: lbs_to_kg\n",
            "Converted value: 0.9072\n"
          ]
        }
      ],
      "source": [
        "def convert_length(value, unit):\n",
        "    \"\"\"\n",
        "    Converts length between meters and feet.\n",
        "    :param value: float, the numeric value to convert.\n",
        "    :param unit: str, 'm_to_ft' for meters to feet, 'ft_to_m' for feet to meters.\n",
        "    :return: float, converted value.\n",
        "    \"\"\"\n",
        "    if unit == 'm_to_ft':\n",
        "        return value * 3.28084\n",
        "    elif unit == 'ft_to_m':\n",
        "        return value / 3.28084\n",
        "    else:\n",
        "        raise ValueError(\"Invalid unit for length conversion.\")\n",
        "\n",
        "def convert_weight(value, unit):\n",
        "    \"\"\"\n",
        "    Converts weight between kilograms and pounds.\n",
        "    :param value: float, the numeric value to convert.\n",
        "    :param unit: str, 'kg_to_lbs' for kg to lbs, 'lbs_to_kg' for lbs to kg.\n",
        "    :return: float, converted value.\n",
        "    \"\"\"\n",
        "    if unit == 'kg_to_lbs':\n",
        "        return value * 2.20462\n",
        "    elif unit == 'lbs_to_kg':\n",
        "        return value / 2.20462\n",
        "    else:\n",
        "        raise ValueError(\"Invalid unit for weight conversion.\")\n",
        "\n",
        "def convert_volume(value, unit):\n",
        "    \"\"\"\n",
        "    Converts volume between liters and gallons.\n",
        "    :param value: float, the numeric value to convert.\n",
        "    :param unit: str, 'L_to_gal' for liters to gallons, 'gal_to_L' for gallons to liters.\n",
        "    :return: float, converted value.\n",
        "    \"\"\"\n",
        "    if unit == 'L_to_gal':\n",
        "        return value * 0.264172\n",
        "    elif unit == 'gal_to_L':\n",
        "        return value / 0.264172\n",
        "    else:\n",
        "        raise ValueError(\"Invalid unit for volume conversion.\")\n",
        "\n",
        "def main():\n",
        "    print(\"Unit Converter\")\n",
        "    print(\"1. Length (Meters to Feet / Feet to Meters)\")\n",
        "    print(\"2. Weight (Kilograms to Pounds / Pounds to Kilograms)\")\n",
        "    print(\"3. Volume (Liters to Gallons / Gallons to Liters)\")\n",
        "\n",
        "    try:\n",
        "        choice = int(input(\"Select conversion type (1-3): \"))\n",
        "        value = float(input(\"Enter the value to convert: \"))\n",
        "\n",
        "        if choice == 1:\n",
        "            unit = input(\"Enter 'm_to_ft' for meters to feet or 'ft_to_m' for feet to meters: \")\n",
        "            result = convert_length(value, unit)\n",
        "        elif choice == 2:\n",
        "            unit = input(\"Enter 'kg_to_lbs' for kg to lbs or 'lbs_to_kg' for lbs to kg: \")\n",
        "            result = convert_weight(value, unit)\n",
        "        elif choice == 3:\n",
        "            unit = input(\"Enter 'L_to_gal' for liters to gallons or 'gal_to_L' for gallons to liters: \")\n",
        "            result = convert_volume(value, unit)\n",
        "        else:\n",
        "            print(\"Invalid choice.\")\n",
        "            return\n",
        "\n",
        "        print(f\"Converted value: {result:.4f}\")\n",
        "    except ValueError as e:\n",
        "        print(f\"Error: {e}\")\n",
        "    except Exception:\n",
        "        print(\"An unexpected error occurred.\")\n",
        "\n",
        "if __name__ == \"__main__\":\n",
        "    main()\n"
      ]
    },
    {
      "cell_type": "markdown",
      "source": [
        "### Task 2"
      ],
      "metadata": {
        "id": "Suv9JcDgwELK"
      }
    },
    {
      "cell_type": "code",
      "source": [
        "def calculate_sum(numbers):\n",
        "    \"\"\"\n",
        "    Calculates the sum of a list of numbers.\n",
        "    :param numbers: list of floats.\n",
        "    :return: float, sum of numbers.\n",
        "    \"\"\"\n",
        "    return sum(numbers)\n",
        "\n",
        "def calculate_average(numbers):\n",
        "    \"\"\"\n",
        "    Calculates the average of a list of numbers.\n",
        "    :param numbers: list of floats.\n",
        "    :return: float, average of numbers.\n",
        "    \"\"\"\n",
        "    return sum(numbers) / len(numbers) if numbers else 0\n",
        "\n",
        "def find_maximum(numbers):\n",
        "    \"\"\"\n",
        "    Finds the maximum number in a list.\n",
        "    :param numbers: list of floats.\n",
        "    :return: float, maximum number.\n",
        "    \"\"\"\n",
        "    return max(numbers)\n",
        "\n",
        "def find_minimum(numbers):\n",
        "    \"\"\"\n",
        "    Finds the minimum number in a list.\n",
        "    :param numbers: list of floats.\n",
        "    :return: float, minimum number.\n",
        "    \"\"\"\n",
        "    return min(numbers)\n",
        "\n",
        "def main_math_operations():\n",
        "    print(\"Mathematical Operations\")\n",
        "    try:\n",
        "        numbers = input(\"Enter a list of numbers separated by spaces: \").split()\n",
        "        numbers = [float(num) for num in numbers]\n",
        "        print(\"Choose an operation: sum, average, max, min\")\n",
        "        operation = input(\"Enter operation: \").strip().lower()\n",
        "\n",
        "        if operation == \"sum\":\n",
        "            print(f\"Sum: {calculate_sum(numbers)}\")\n",
        "        elif operation == \"average\":\n",
        "            print(f\"Average: {calculate_average(numbers)}\")\n",
        "        elif operation == \"max\":\n",
        "            print(f\"Maximum: {find_maximum(numbers)}\")\n",
        "        elif operation == \"min\":\n",
        "            print(f\"Minimum: {find_minimum(numbers)}\")\n",
        "        else:\n",
        "            print(\"Invalid operation.\")\n",
        "    except ValueError:\n",
        "        print(\"Invalid input. Please enter numbers only.\")\n",
        "    except Exception:\n",
        "        print(\"An unexpected error occurred.\")\n",
        "\n",
        "def main():\n",
        "    main_math_operations()\n",
        "\n",
        "if __name__ == \"__main__\":\n",
        "    main()"
      ],
      "metadata": {
        "colab": {
          "base_uri": "https://localhost:8080/"
        },
        "id": "ubUa4FurgnnP",
        "outputId": "cbd77440-64b6-42e5-f397-65162e56c970"
      },
      "execution_count": 2,
      "outputs": [
        {
          "output_type": "stream",
          "name": "stdout",
          "text": [
            "Mathematical Operations\n",
            "Enter a list of numbers separated by spaces: 1 3 44 5 6 88 33 7 83 32 47\n",
            "Choose an operation: sum, average, max, min\n",
            "Enter operation: max\n",
            "Maximum: 88.0\n"
          ]
        }
      ]
    },
    {
      "cell_type": "markdown",
      "source": [
        "## 4.2"
      ],
      "metadata": {
        "id": "M6mNC6_nkdpG"
      }
    },
    {
      "cell_type": "code",
      "source": [
        "# 1\n",
        "def extract_every_other(lst):\n",
        "    result = []\n",
        "    for i in range(0, len(lst), 2):\n",
        "        result.append(lst[i])\n",
        "    return result\n",
        "\n",
        "input_list = [1, 2, 3, 4, 5, 6]\n",
        "output_list = extract_every_other(input_list)\n",
        "print(output_list)"
      ],
      "metadata": {
        "colab": {
          "base_uri": "https://localhost:8080/"
        },
        "id": "aww4l1EYkZLR",
        "outputId": "90cefa32-d525-46f9-dcde-e1a5a7e0ff33"
      },
      "execution_count": 3,
      "outputs": [
        {
          "output_type": "stream",
          "name": "stdout",
          "text": [
            "[1, 3, 5]\n"
          ]
        }
      ]
    },
    {
      "cell_type": "code",
      "source": [
        "# 2\n",
        "def get_sublist(lst, start, end):\n",
        "    result = []\n",
        "    for i in range(start, end):\n",
        "        result.append(lst[i])\n",
        "    return result\n",
        "\n",
        "input_list = [1, 2, 3, 4, 5, 6]\n",
        "sublist = get_sublist(input_list, 2, 5)\n",
        "print(sublist)"
      ],
      "metadata": {
        "colab": {
          "base_uri": "https://localhost:8080/"
        },
        "id": "Hp0-3gKLlVVw",
        "outputId": "9e27ab8b-35fc-4263-ceb5-ee74910508e2"
      },
      "execution_count": 4,
      "outputs": [
        {
          "output_type": "stream",
          "name": "stdout",
          "text": [
            "[3, 4, 5]\n"
          ]
        }
      ]
    },
    {
      "cell_type": "code",
      "source": [
        "# 3\n",
        "def reverse_list(lst):\n",
        "    return lst[::-1]\n",
        "\n",
        "input_list = [1, 2, 3, 4, 5]\n",
        "reversed_list = reverse_list(input_list)\n",
        "# print(reversed_list)"
      ],
      "metadata": {
        "id": "9R2rfktGl8Or"
      },
      "execution_count": 5,
      "outputs": []
    },
    {
      "cell_type": "code",
      "source": [
        "# 4\n",
        "def remove_first_last(lst):\n",
        "    return lst[1:-1]\n",
        "\n",
        "input_list = [1, 2, 3, 4, 5, 6]\n",
        "result_list = remove_first_last(input_list)\n",
        "print(result_list)"
      ],
      "metadata": {
        "colab": {
          "base_uri": "https://localhost:8080/"
        },
        "id": "rcLHdN_0mZr-",
        "outputId": "118414f9-f55f-40a4-8b2b-4e769149055b"
      },
      "execution_count": 6,
      "outputs": [
        {
          "output_type": "stream",
          "name": "stdout",
          "text": [
            "[2, 3, 4, 5]\n"
          ]
        }
      ]
    },
    {
      "cell_type": "code",
      "source": [
        "# 5\n",
        "def get_first_n(lst, n):\n",
        "    return lst[:n]\n",
        "\n",
        "input_list = [1, 2, 3, 4, 5, 6, 7]\n",
        "n = 4\n",
        "result_list = get_first_n(input_list, n)\n",
        "print(result_list)\n"
      ],
      "metadata": {
        "colab": {
          "base_uri": "https://localhost:8080/"
        },
        "id": "V1M_rj3inOsX",
        "outputId": "672a6163-90fd-40b6-caae-2f79da8917a3"
      },
      "execution_count": 7,
      "outputs": [
        {
          "output_type": "stream",
          "name": "stdout",
          "text": [
            "[1, 2, 3, 4]\n"
          ]
        }
      ]
    },
    {
      "cell_type": "code",
      "source": [
        "# 6\n",
        "def get_last_n(lst, n):\n",
        "    return lst[-n:]\n",
        "\n",
        "input_list = [1, 2, 3, 4, 5]\n",
        "n = 2\n",
        "result_list = get_last_n(input_list, n)\n",
        "print(result_list)"
      ],
      "metadata": {
        "colab": {
          "base_uri": "https://localhost:8080/"
        },
        "id": "Dm3o1nkDnsnM",
        "outputId": "5b5125e5-c47b-48e0-d4f3-521449e98515"
      },
      "execution_count": 8,
      "outputs": [
        {
          "output_type": "stream",
          "name": "stdout",
          "text": [
            "[4, 5]\n"
          ]
        }
      ]
    },
    {
      "cell_type": "code",
      "source": [
        "# 7\n",
        "def reverse_skip(lst):\n",
        "    result = []\n",
        "    for i in range(len(lst) - 2, -1, -2):\n",
        "        result.append(lst[i])\n",
        "    return result\n",
        "\n",
        "input_list = [1, 2, 3, 4, 5, 6]\n",
        "result_list = reverse_skip(input_list)\n",
        "print(result_list)"
      ],
      "metadata": {
        "colab": {
          "base_uri": "https://localhost:8080/"
        },
        "id": "4UYfxBkin4sr",
        "outputId": "d3bf6ff3-b40d-4836-cc36-e23430b85c10"
      },
      "execution_count": 9,
      "outputs": [
        {
          "output_type": "stream",
          "name": "stdout",
          "text": [
            "[5, 3, 1]\n"
          ]
        }
      ]
    },
    {
      "cell_type": "markdown",
      "source": [
        "## 4.3"
      ],
      "metadata": {
        "id": "RLGEFFFZoqYZ"
      }
    },
    {
      "cell_type": "code",
      "source": [
        "# 1\n",
        "def flatten(lst):\n",
        "    result = []\n",
        "    for sublist in lst:\n",
        "        for item in sublist:\n",
        "            result.append(item)\n",
        "    return result\n",
        "\n",
        "input_list = [[1, 2], [3, 4], [5]]\n",
        "flattened_list = flatten(input_list)\n",
        "print(flattened_list)"
      ],
      "metadata": {
        "colab": {
          "base_uri": "https://localhost:8080/"
        },
        "id": "Wzruug43oHQb",
        "outputId": "55ecf64d-7551-4d84-9c4b-20dbae7e4a9a"
      },
      "execution_count": 10,
      "outputs": [
        {
          "output_type": "stream",
          "name": "stdout",
          "text": [
            "[1, 2, 3, 4, 5]\n"
          ]
        }
      ]
    },
    {
      "cell_type": "code",
      "source": [
        "# 2\n",
        "def access_nested_element(lst, indices):\n",
        "    element = lst\n",
        "    for index in indices:\n",
        "        element = element[index]\n",
        "    return element\n",
        "\n",
        "lst = [[1, 2, 3], [4, 5, 6], [7, 8, 9]]\n",
        "indices = [1, 2]\n",
        "result = access_nested_element(lst, indices)\n",
        "print(result)"
      ],
      "metadata": {
        "colab": {
          "base_uri": "https://localhost:8080/"
        },
        "id": "-lcJ0WZ3qjws",
        "outputId": "b7cb7de8-9caa-4b04-f5bb-3b97ba489277"
      },
      "execution_count": 11,
      "outputs": [
        {
          "output_type": "stream",
          "name": "stdout",
          "text": [
            "6\n"
          ]
        }
      ]
    },
    {
      "cell_type": "code",
      "source": [
        "# 3\n",
        "def sum_nested(lst):\n",
        "    total = 0\n",
        "    for element in lst:\n",
        "        if isinstance(element, list):\n",
        "            total += sum_nested(element)\n",
        "        else:\n",
        "            total += element\n",
        "    return total\n",
        "\n",
        "input_list = [[1, 2], [3, [4, 5]], 6]\n",
        "result = sum_nested(input_list)\n",
        "print(result)"
      ],
      "metadata": {
        "colab": {
          "base_uri": "https://localhost:8080/"
        },
        "id": "8siHcGW6q8tq",
        "outputId": "f98bb16b-8239-4220-c810-32bf5ecb3372"
      },
      "execution_count": 12,
      "outputs": [
        {
          "output_type": "stream",
          "name": "stdout",
          "text": [
            "21\n"
          ]
        }
      ]
    },
    {
      "cell_type": "code",
      "source": [
        "# 4\n",
        "def remove_element(lst, elem):\n",
        "    for i in range(len(lst)):\n",
        "        if isinstance(lst[i], list):\n",
        "            lst[i] = remove_element(lst[i], elem)\n",
        "        elif elem == lst[i]:\n",
        "            lst.pop(i)\n",
        "            return remove_element(lst, elem)\n",
        "    return lst\n",
        "\n",
        "input_list = [[1, 2], [3, 2], [4, 5]]\n",
        "elem_to_remove = 2\n",
        "result = remove_element(input_list, elem_to_remove)\n",
        "print(result)"
      ],
      "metadata": {
        "colab": {
          "base_uri": "https://localhost:8080/"
        },
        "id": "mJgUPMrmrIqb",
        "outputId": "1f250c92-2570-486c-f0df-a027ad27ab8d"
      },
      "execution_count": 13,
      "outputs": [
        {
          "output_type": "stream",
          "name": "stdout",
          "text": [
            "[[1], [3], [4, 5]]\n"
          ]
        }
      ]
    },
    {
      "cell_type": "code",
      "source": [
        "# 5\n",
        "def find_max(lst):\n",
        "    max_elem = 0\n",
        "\n",
        "    for element in lst:\n",
        "        if isinstance(element, list):\n",
        "            max_elem = max(max_elem, find_max(element))\n",
        "        else:\n",
        "            max_elem = max(max_elem, element)\n",
        "\n",
        "    return max_elem\n",
        "\n",
        "input_list = [[1, 2], [3, [4, 5]], 6]\n",
        "result = find_max(input_list)\n",
        "print(result)"
      ],
      "metadata": {
        "colab": {
          "base_uri": "https://localhost:8080/"
        },
        "id": "S-bngfixrjdb",
        "outputId": "e317b49e-fbc7-402b-b0b2-47698c283398"
      },
      "execution_count": 14,
      "outputs": [
        {
          "output_type": "stream",
          "name": "stdout",
          "text": [
            "6\n"
          ]
        }
      ]
    },
    {
      "cell_type": "code",
      "source": [
        "# 6\n",
        "def count_occurrences(lst, elem):\n",
        "    count = 0\n",
        "\n",
        "    for item in lst:\n",
        "        if isinstance(item, list):\n",
        "            count += count_occurrences(item, elem)\n",
        "        elif item == elem:\n",
        "            count += 1\n",
        "\n",
        "    return count\n",
        "\n",
        "input_list = [[1, 2], [2, 3], [2, 4]]\n",
        "elem_to_count = 2\n",
        "result = count_occurrences(input_list, elem_to_count)\n",
        "print(result)"
      ],
      "metadata": {
        "colab": {
          "base_uri": "https://localhost:8080/"
        },
        "id": "BRfiuGwpsUH0",
        "outputId": "2212aa94-7703-4d8b-9728-7fce1149c293"
      },
      "execution_count": 15,
      "outputs": [
        {
          "output_type": "stream",
          "name": "stdout",
          "text": [
            "3\n"
          ]
        }
      ]
    },
    {
      "cell_type": "code",
      "source": [
        "# 7\n",
        "def deep_flatten(lst):\n",
        "    flat_list = []\n",
        "\n",
        "    for item in lst:\n",
        "        if isinstance(item, list):\n",
        "            flat_list.extend(deep_flatten(item))\n",
        "        else:\n",
        "            flat_list.append(item)\n",
        "\n",
        "    return flat_list\n",
        "\n",
        "input_list = [[[1, 2], [3, 4]], [[5, 6], [7, 8]]]\n",
        "result = deep_flatten(input_list)\n",
        "print(result)"
      ],
      "metadata": {
        "colab": {
          "base_uri": "https://localhost:8080/"
        },
        "id": "eZeMRwaes1ku",
        "outputId": "dd16eb5a-1549-4953-ec60-f40cd5316ee5"
      },
      "execution_count": 16,
      "outputs": [
        {
          "output_type": "stream",
          "name": "stdout",
          "text": [
            "[1, 2, 3, 4, 5, 6, 7, 8]\n"
          ]
        }
      ]
    },
    {
      "cell_type": "code",
      "source": [
        "# 8\n",
        "def average_nested(lst):\n",
        "    total_sum = 0\n",
        "    total_count = 0\n",
        "\n",
        "    def flatten(lst):\n",
        "        nonlocal total_sum, total_count\n",
        "        for item in lst:\n",
        "            if isinstance(item, list):\n",
        "                flatten(item)\n",
        "            else:\n",
        "                total_sum += item\n",
        "                total_count += 1\n",
        "\n",
        "    flatten(lst)\n",
        "    return total_sum / total_count if total_count != 0 else 0\n",
        "\n",
        "input_list = [[1, 2], [3, 4], [5, 6]]\n",
        "result = average_nested(input_list)\n",
        "print(result)"
      ],
      "metadata": {
        "colab": {
          "base_uri": "https://localhost:8080/"
        },
        "id": "UUmMZiRTtEBU",
        "outputId": "cf9d360c-a215-49c8-9295-d953993f53a4"
      },
      "execution_count": 17,
      "outputs": [
        {
          "output_type": "stream",
          "name": "stdout",
          "text": [
            "3.5\n"
          ]
        }
      ]
    },
    {
      "cell_type": "markdown",
      "source": [
        "## 10.1"
      ],
      "metadata": {
        "id": "c0wTNHYntjaO"
      }
    },
    {
      "cell_type": "markdown",
      "source": [
        "### Problem - 1"
      ],
      "metadata": {
        "id": "9HiFbiSKvx_a"
      }
    },
    {
      "cell_type": "code",
      "source": [
        "import numpy as np\n",
        "\n",
        "# Task 1: Initialize an empty array with size 2x2\n",
        "empty_array = np.empty((2, 2))\n",
        "print(\"Empty array (2x2):\")\n",
        "print(empty_array)\n",
        "\n",
        "# Task 2: Initialize an all one array with size 4x2\n",
        "ones_array = np.ones((4, 2))\n",
        "print(\"\\nArray of ones (4x2):\")\n",
        "print(ones_array)\n",
        "\n",
        "# Task 3: Return a new array of given shape and type, filled with fill value\n",
        "shape = (3, 3)\n",
        "fill_value = 7\n",
        "filled_array = np.full(shape, fill_value)\n",
        "print(\"\\nArray filled with value 7 (3x3):\")\n",
        "print(filled_array)\n",
        "\n",
        "# Task 4: Return a new array of zeros with same shape and type as a given array\n",
        "existing_array = np.array([1, 2, 3, 4])  # Existing array\n",
        "zeros_array = np.zeros_like(existing_array)\n",
        "print(\"\\nArray of zeros with the same shape and type as existing array:\")\n",
        "print(zeros_array)\n",
        "\n",
        "# Task 5: Return a new array of ones with same shape and type as a given array\n",
        "ones_like_array = np.ones_like(existing_array)\n",
        "print(\"\\nArray of ones with the same shape and type as existing array:\")\n",
        "print(ones_like_array)\n",
        "\n",
        "# Task 6: Convert an existing list to a NumPy array\n",
        "new_list = [1, 2, 3, 4]\n",
        "array_from_list = np.array(new_list)\n",
        "print(\"\\nNumPy array from list [1, 2, 3, 4]:\")\n",
        "print(array_from_list)\n"
      ],
      "metadata": {
        "colab": {
          "base_uri": "https://localhost:8080/"
        },
        "id": "Htwp7wJXtUbS",
        "outputId": "44d7abb1-9fea-4f6f-d9c2-33493637def1"
      },
      "execution_count": 18,
      "outputs": [
        {
          "output_type": "stream",
          "name": "stdout",
          "text": [
            "Empty array (2x2):\n",
            "[[6.67745969e-310 6.67745969e-310]\n",
            " [8.60640289e-043 1.70718654e-306]]\n",
            "\n",
            "Array of ones (4x2):\n",
            "[[1. 1.]\n",
            " [1. 1.]\n",
            " [1. 1.]\n",
            " [1. 1.]]\n",
            "\n",
            "Array filled with value 7 (3x3):\n",
            "[[7 7 7]\n",
            " [7 7 7]\n",
            " [7 7 7]]\n",
            "\n",
            "Array of zeros with the same shape and type as existing array:\n",
            "[0 0 0 0]\n",
            "\n",
            "Array of ones with the same shape and type as existing array:\n",
            "[1 1 1 1]\n",
            "\n",
            "NumPy array from list [1, 2, 3, 4]:\n",
            "[1 2 3 4]\n"
          ]
        }
      ]
    },
    {
      "cell_type": "markdown",
      "source": [
        "### Problem - 2"
      ],
      "metadata": {
        "id": "9OFT-WR6v17A"
      }
    },
    {
      "cell_type": "code",
      "source": [
        "import numpy as np\n",
        "\n",
        "# Task 1: Create an array with values ranging from 10 to 49\n",
        "array_10_to_49 = np.arange(10, 50)\n",
        "print(\"Array from 10 to 49:\")\n",
        "print(array_10_to_49)"
      ],
      "metadata": {
        "colab": {
          "base_uri": "https://localhost:8080/"
        },
        "id": "bfU1EWLKuUjq",
        "outputId": "c5ca5bce-a25c-4c3a-d781-6fcaa83cfe90"
      },
      "execution_count": 19,
      "outputs": [
        {
          "output_type": "stream",
          "name": "stdout",
          "text": [
            "Array from 10 to 49:\n",
            "[10 11 12 13 14 15 16 17 18 19 20 21 22 23 24 25 26 27 28 29 30 31 32 33\n",
            " 34 35 36 37 38 39 40 41 42 43 44 45 46 47 48 49]\n"
          ]
        }
      ]
    },
    {
      "cell_type": "code",
      "source": [
        "# Task 2: Create a 3x3 matrix with values ranging from 0 to 8\n",
        "matrix_3x3 = np.arange(9).reshape(3, 3)\n",
        "print(\"\\n3x3 matrix with values from 0 to 8:\")\n",
        "print(matrix_3x3)"
      ],
      "metadata": {
        "colab": {
          "base_uri": "https://localhost:8080/"
        },
        "id": "AaBeSclFuxnh",
        "outputId": "a8abd08f-c899-4d17-cf63-6069ea8bb2c7"
      },
      "execution_count": 20,
      "outputs": [
        {
          "output_type": "stream",
          "name": "stdout",
          "text": [
            "\n",
            "3x3 matrix with values from 0 to 8:\n",
            "[[0 1 2]\n",
            " [3 4 5]\n",
            " [6 7 8]]\n"
          ]
        }
      ]
    },
    {
      "cell_type": "code",
      "source": [
        "# Task 3: Create a 3x3 identity matrix\n",
        "identity_matrix = np.eye(3)\n",
        "print(\"\\n3x3 identity matrix:\")\n",
        "print(identity_matrix)"
      ],
      "metadata": {
        "colab": {
          "base_uri": "https://localhost:8080/"
        },
        "id": "y-kVOXrKuypH",
        "outputId": "87ef1b7e-9133-4cc0-d837-49f2ec7887f5"
      },
      "execution_count": 21,
      "outputs": [
        {
          "output_type": "stream",
          "name": "stdout",
          "text": [
            "\n",
            "3x3 identity matrix:\n",
            "[[1. 0. 0.]\n",
            " [0. 1. 0.]\n",
            " [0. 0. 1.]]\n"
          ]
        }
      ]
    },
    {
      "cell_type": "code",
      "source": [
        "# Task 4: Create a random array of size 30 and find the mean of the array\n",
        "random_array = np.random.random(30)\n",
        "mean_value = random_array.mean()\n",
        "print(\"\\nRandom array of size 30:\")\n",
        "print(random_array)\n",
        "print(\"Mean of the random array:\", mean_value)"
      ],
      "metadata": {
        "colab": {
          "base_uri": "https://localhost:8080/"
        },
        "id": "44PWZJP6uy41",
        "outputId": "cd734b31-74a1-4e64-df43-24630498a883"
      },
      "execution_count": 22,
      "outputs": [
        {
          "output_type": "stream",
          "name": "stdout",
          "text": [
            "\n",
            "Random array of size 30:\n",
            "[0.39018188 0.62518535 0.8420717  0.99526663 0.73934551 0.39495353\n",
            " 0.05394856 0.95971568 0.88025917 0.14823083 0.13595945 0.05225586\n",
            " 0.27106962 0.65446606 0.11363128 0.69913111 0.87352287 0.83871523\n",
            " 0.30810079 0.09673722 0.92369429 0.0342186  0.47980256 0.47633077\n",
            " 0.92879321 0.07185546 0.4719903  0.5393545  0.64951421 0.14706215]\n",
            "Mean of the random array: 0.49317881334074\n"
          ]
        }
      ]
    },
    {
      "cell_type": "code",
      "source": [
        "# Task 5: Create a 10x10 array with random values and find the minimum and maximum values\n",
        "random_10x10 = np.random.random((10, 10))\n",
        "min_value = random_10x10.min()\n",
        "max_value = random_10x10.max()\n",
        "print(\"\\n10x10 array with random values:\")\n",
        "print(random_10x10)\n",
        "print(\"Minimum value:\", min_value)\n",
        "print(\"Maximum value:\", max_value)"
      ],
      "metadata": {
        "colab": {
          "base_uri": "https://localhost:8080/"
        },
        "id": "jvMFEvRWuzBj",
        "outputId": "6114bf88-7009-4f8f-bf15-cdfaf7c39922"
      },
      "execution_count": 23,
      "outputs": [
        {
          "output_type": "stream",
          "name": "stdout",
          "text": [
            "\n",
            "10x10 array with random values:\n",
            "[[0.64314812 0.65343994 0.09387216 0.29101229 0.49875537 0.19146379\n",
            "  0.81987925 0.57345721 0.21805354 0.58697463]\n",
            " [0.33962208 0.25451826 0.48011276 0.89898844 0.02096278 0.13374686\n",
            "  0.25837995 0.40151578 0.69993431 0.79083627]\n",
            " [0.0191806  0.6396288  0.84986693 0.49035465 0.77528713 0.40122485\n",
            "  0.90880702 0.59814769 0.97209394 0.12659988]\n",
            " [0.49265372 0.52834591 0.91923759 0.4609011  0.77873415 0.92466709\n",
            "  0.20186592 0.10118617 0.45334636 0.57374475]\n",
            " [0.72288833 0.46131331 0.76478771 0.29665461 0.79764638 0.79505186\n",
            "  0.20559907 0.30839023 0.3379771  0.39259701]\n",
            " [0.15082097 0.03890933 0.86901664 0.31255974 0.18733445 0.28804312\n",
            "  0.32798206 0.49431945 0.79226728 0.30296426]\n",
            " [0.89931571 0.27010985 0.3589631  0.79062215 0.59471127 0.50145946\n",
            "  0.08445122 0.35025316 0.73213063 0.26324852]\n",
            " [0.52225795 0.2359065  0.5206698  0.15244663 0.30758643 0.61529152\n",
            "  0.81292678 0.57108658 0.97875489 0.18040652]\n",
            " [0.22804244 0.9462985  0.57849843 0.67133746 0.37185149 0.32200319\n",
            "  0.86725029 0.11607234 0.13267682 0.33900863]\n",
            " [0.45285453 0.04505505 0.78499452 0.41593412 0.22773789 0.0754673\n",
            "  0.13554328 0.36432928 0.31439265 0.56791856]]\n",
            "Minimum value: 0.019180598945601646\n",
            "Maximum value: 0.978754887094644\n"
          ]
        }
      ]
    },
    {
      "cell_type": "code",
      "source": [
        "# Task 6: Create a zero array of size 10 and replace 5th element with 1\n",
        "zero_array = np.zeros(10)\n",
        "zero_array[4] = 1\n",
        "print(\"\\nZero array with 5th element replaced with 1:\")\n",
        "print(zero_array)"
      ],
      "metadata": {
        "colab": {
          "base_uri": "https://localhost:8080/"
        },
        "id": "vjlqpCCDuzHY",
        "outputId": "e4d5af0e-6896-4bbb-b31d-00aefa1de249"
      },
      "execution_count": 24,
      "outputs": [
        {
          "output_type": "stream",
          "name": "stdout",
          "text": [
            "\n",
            "Zero array with 5th element replaced with 1:\n",
            "[0. 0. 0. 0. 1. 0. 0. 0. 0. 0.]\n"
          ]
        }
      ]
    },
    {
      "cell_type": "code",
      "source": [
        "# Task 7: Reverse an array arr = [1, 2, 0, 0, 4, 0]\n",
        "arr = [1, 2, 0, 0, 4, 0]\n",
        "reversed_arr = arr[::-1]\n",
        "print(\"\\nReversed array:\")\n",
        "print(reversed_arr)"
      ],
      "metadata": {
        "colab": {
          "base_uri": "https://localhost:8080/"
        },
        "id": "qVhl3jikuzLZ",
        "outputId": "ecade32d-5aaa-4bd8-cb9d-3d4ada03e479"
      },
      "execution_count": 25,
      "outputs": [
        {
          "output_type": "stream",
          "name": "stdout",
          "text": [
            "\n",
            "Reversed array:\n",
            "[0, 4, 0, 0, 2, 1]\n"
          ]
        }
      ]
    },
    {
      "cell_type": "code",
      "source": [
        "# Task 8: Create a 2D array with 1 on the border and 0 inside\n",
        "border_array = np.ones((5, 5))\n",
        "border_array[1:-1, 1:-1] = 0\n",
        "print(\"\\n2D array with 1 on the border and 0 inside:\")\n",
        "print(border_array)"
      ],
      "metadata": {
        "colab": {
          "base_uri": "https://localhost:8080/"
        },
        "id": "XeRglodzuzO4",
        "outputId": "6caf37e2-1d99-4e2d-c446-1f35104a44b2"
      },
      "execution_count": 26,
      "outputs": [
        {
          "output_type": "stream",
          "name": "stdout",
          "text": [
            "\n",
            "2D array with 1 on the border and 0 inside:\n",
            "[[1. 1. 1. 1. 1.]\n",
            " [1. 0. 0. 0. 1.]\n",
            " [1. 0. 0. 0. 1.]\n",
            " [1. 0. 0. 0. 1.]\n",
            " [1. 1. 1. 1. 1.]]\n"
          ]
        }
      ]
    },
    {
      "cell_type": "code",
      "source": [
        "# Task 9: Create an 8x8 matrix and fill it with a checkerboard pattern\n",
        "checkerboard = np.zeros((8, 8), dtype=int)\n",
        "checkerboard[1::2, ::2] = 1\n",
        "checkerboard[::2, 1::2] = 1\n",
        "print(\"\\n8x8 checkerboard pattern:\")\n",
        "print(checkerboard)"
      ],
      "metadata": {
        "colab": {
          "base_uri": "https://localhost:8080/"
        },
        "id": "T95IKwp5vZnF",
        "outputId": "7fc632ac-10dd-46c9-db50-3280c6141362"
      },
      "execution_count": 27,
      "outputs": [
        {
          "output_type": "stream",
          "name": "stdout",
          "text": [
            "\n",
            "8x8 checkerboard pattern:\n",
            "[[0 1 0 1 0 1 0 1]\n",
            " [1 0 1 0 1 0 1 0]\n",
            " [0 1 0 1 0 1 0 1]\n",
            " [1 0 1 0 1 0 1 0]\n",
            " [0 1 0 1 0 1 0 1]\n",
            " [1 0 1 0 1 0 1 0]\n",
            " [0 1 0 1 0 1 0 1]\n",
            " [1 0 1 0 1 0 1 0]]\n"
          ]
        }
      ]
    },
    {
      "cell_type": "markdown",
      "source": [
        "### Problem - 3"
      ],
      "metadata": {
        "id": "TJYqhxmiwfUK"
      }
    },
    {
      "cell_type": "code",
      "source": [
        "import numpy as np\n",
        "\n",
        "# Given arrays\n",
        "x = np.array([[1, 2], [3, 5]])\n",
        "y = np.array([[5, 6], [7, 8]])\n",
        "v = np.array([9, 10])\n",
        "w = np.array([11, 12])\n",
        "\n",
        "# Task 1: Add the two arrays\n",
        "add_arrays = x + y\n",
        "print(\"Task 1: Sum of x and y:\")\n",
        "print(add_arrays)"
      ],
      "metadata": {
        "colab": {
          "base_uri": "https://localhost:8080/"
        },
        "id": "ymlZnUI3v8Hw",
        "outputId": "5723c0b4-5167-47a5-994d-aea762e19b67"
      },
      "execution_count": 28,
      "outputs": [
        {
          "output_type": "stream",
          "name": "stdout",
          "text": [
            "Task 1: Sum of x and y:\n",
            "[[ 6  8]\n",
            " [10 13]]\n"
          ]
        }
      ]
    },
    {
      "cell_type": "code",
      "source": [
        "# Task 2: Subtract the two arrays\n",
        "subtract_arrays = x - y\n",
        "print(\"\\nTask 2: Difference of x and y:\")\n",
        "print(subtract_arrays)"
      ],
      "metadata": {
        "colab": {
          "base_uri": "https://localhost:8080/"
        },
        "id": "W5dihpFJwx-k",
        "outputId": "7100316b-ba50-4c1e-accf-940b8574ad34"
      },
      "execution_count": 29,
      "outputs": [
        {
          "output_type": "stream",
          "name": "stdout",
          "text": [
            "\n",
            "Task 2: Difference of x and y:\n",
            "[[-4 -4]\n",
            " [-4 -3]]\n"
          ]
        }
      ]
    },
    {
      "cell_type": "code",
      "source": [
        "# Task 3: Multiply the array with any integers of your choice (let's multiply by 2)\n",
        "multiply_array = x * 2\n",
        "print(\"\\nTask 3: x multiplied by 2:\")\n",
        "print(multiply_array)"
      ],
      "metadata": {
        "colab": {
          "base_uri": "https://localhost:8080/"
        },
        "id": "Z8mBXUZkwyt0",
        "outputId": "2a8d7925-0567-45a1-ed78-29f3368a0bd1"
      },
      "execution_count": 30,
      "outputs": [
        {
          "output_type": "stream",
          "name": "stdout",
          "text": [
            "\n",
            "Task 3: x multiplied by 2:\n",
            "[[ 2  4]\n",
            " [ 6 10]]\n"
          ]
        }
      ]
    },
    {
      "cell_type": "code",
      "source": [
        "# Task 4: Find the square of each element of the array\n",
        "square_elements = np.square(x)\n",
        "print(\"\\nTask 4: Square of each element in x:\")\n",
        "print(square_elements)"
      ],
      "metadata": {
        "colab": {
          "base_uri": "https://localhost:8080/"
        },
        "id": "akt4fyj6w0oM",
        "outputId": "852a2711-75d1-45df-b774-60b1ab1e398c"
      },
      "execution_count": 31,
      "outputs": [
        {
          "output_type": "stream",
          "name": "stdout",
          "text": [
            "\n",
            "Task 4: Square of each element in x:\n",
            "[[ 1  4]\n",
            " [ 9 25]]\n"
          ]
        }
      ]
    },
    {
      "cell_type": "code",
      "source": [
        "# Task 5: Find the dot product between v and w, x and v, x and y\n",
        "dot_v_w = np.dot(v, w)\n",
        "dot_x_v = np.dot(x, v)\n",
        "dot_x_y = np.dot(x, y)\n",
        "\n",
        "print(\"\\nTask 5: Dot Products\")\n",
        "print(\"Dot product of v and w:\", dot_v_w)\n",
        "print(\"Dot product of x and v:\", dot_x_v)\n",
        "print(\"Dot product of x and y:\", dot_x_y)"
      ],
      "metadata": {
        "colab": {
          "base_uri": "https://localhost:8080/"
        },
        "id": "G2RkKrjFw2YS",
        "outputId": "91d877f6-8f4b-4dfc-87f7-fc92f1e11483"
      },
      "execution_count": 32,
      "outputs": [
        {
          "output_type": "stream",
          "name": "stdout",
          "text": [
            "\n",
            "Task 5: Dot Products\n",
            "Dot product of v and w: 219\n",
            "Dot product of x and v: [29 77]\n",
            "Dot product of x and y: [[19 22]\n",
            " [50 58]]\n"
          ]
        }
      ]
    },
    {
      "cell_type": "code",
      "source": [
        "# Task 6: Concatenate x and y along rows and concatenate v and w along columns\n",
        "concat_x_y_row = np.concatenate((x, y), axis=0)\n",
        "concat_v_w_col = np.concatenate((v.reshape(-1, 1), w.reshape(-1, 1)), axis=1)\n",
        "\n",
        "print(\"\\nTask 6: Concatenation\")\n",
        "print(\"x and y concatenated along rows:\")\n",
        "print(concat_x_y_row)\n",
        "print(\"v and w concatenated along columns:\")\n",
        "print(concat_v_w_col)"
      ],
      "metadata": {
        "colab": {
          "base_uri": "https://localhost:8080/"
        },
        "id": "XaaQRnByw4HD",
        "outputId": "f570a5c3-3355-416a-c799-688c1eb7112d"
      },
      "execution_count": 33,
      "outputs": [
        {
          "output_type": "stream",
          "name": "stdout",
          "text": [
            "\n",
            "Task 6: Concatenation\n",
            "x and y concatenated along rows:\n",
            "[[1 2]\n",
            " [3 5]\n",
            " [5 6]\n",
            " [7 8]]\n",
            "v and w concatenated along columns:\n",
            "[[ 9 11]\n",
            " [10 12]]\n"
          ]
        }
      ]
    },
    {
      "cell_type": "code",
      "source": [
        "# Task 7: Concatenate x and v; if you get an error, observe and explain why\n",
        "try:\n",
        "    concat_x_v = np.concatenate((x, v), axis=0)\n",
        "    print(\"\\nTask 7: Concatenate x and v:\")\n",
        "    print(concat_x_v)\n",
        "except ValueError as e:\n",
        "    print(\"\\nTask 7 Error:\", e)"
      ],
      "metadata": {
        "colab": {
          "base_uri": "https://localhost:8080/"
        },
        "id": "X6_Lvn-Rw6HN",
        "outputId": "bcecfaad-78d4-4a5a-c906-3f483014bfa0"
      },
      "execution_count": 34,
      "outputs": [
        {
          "output_type": "stream",
          "name": "stdout",
          "text": [
            "\n",
            "Task 7 Error: all the input arrays must have same number of dimensions, but the array at index 0 has 2 dimension(s) and the array at index 1 has 1 dimension(s)\n"
          ]
        }
      ]
    },
    {
      "cell_type": "markdown",
      "source": [
        "### Problem - 4"
      ],
      "metadata": {
        "id": "-Qa45oTYxH7R"
      }
    },
    {
      "cell_type": "code",
      "source": [
        "# Given Matrices A and B\n",
        "A = np.array([[3, 4], [7, 8]])\n",
        "B = np.array([[5, 3], [2, 1]])\n",
        "\n",
        "# Task 1: A * A^(-1) = I\n",
        "A_inv = np.linalg.inv(A)\n",
        "identity_matrix = np.dot(A, A_inv)\n",
        "print(\"Task 1: A * A^(-1) = I:\")\n",
        "print(identity_matrix)"
      ],
      "metadata": {
        "colab": {
          "base_uri": "https://localhost:8080/"
        },
        "id": "0t_l1IHqw9Nb",
        "outputId": "938fc75d-de6d-41c4-b05f-6d3a8135bf9a"
      },
      "execution_count": 35,
      "outputs": [
        {
          "output_type": "stream",
          "name": "stdout",
          "text": [
            "Task 1: A * A^(-1) = I:\n",
            "[[1.00000000e+00 0.00000000e+00]\n",
            " [1.77635684e-15 1.00000000e+00]]\n"
          ]
        }
      ]
    },
    {
      "cell_type": "code",
      "source": [
        "# Task 2: AB != BA\n",
        "AB = np.dot(A, B)\n",
        "BA = np.dot(B, A)\n",
        "print(\"\\nTask 2: AB and BA:\")\n",
        "print(\"AB:\")\n",
        "print(AB)\n",
        "print(\"BA:\")\n",
        "print(BA)\n",
        "are_equal = np.array_equal(AB, BA)\n",
        "print(\"Are AB and BA equal?\", are_equal)"
      ],
      "metadata": {
        "colab": {
          "base_uri": "https://localhost:8080/"
        },
        "id": "_UBngMTfxf_6",
        "outputId": "306db5eb-b60e-4b64-929e-9b1db26384a7"
      },
      "execution_count": 36,
      "outputs": [
        {
          "output_type": "stream",
          "name": "stdout",
          "text": [
            "\n",
            "Task 2: AB and BA:\n",
            "AB:\n",
            "[[23 13]\n",
            " [51 29]]\n",
            "BA:\n",
            "[[36 44]\n",
            " [13 16]]\n",
            "Are AB and BA equal? False\n"
          ]
        }
      ]
    },
    {
      "cell_type": "code",
      "source": [
        "# Task 3: (AB)^T = B^T A^T\n",
        "AB_transpose = np.transpose(AB)\n",
        "BT_AT = np.dot(np.transpose(B), np.transpose(A))\n",
        "print(\"\\nTask 3: (AB)^T and B^T A^T:\")\n",
        "print(\"Transpose of AB:\")\n",
        "print(AB_transpose)\n",
        "print(\"B^T * A^T:\")\n",
        "print(BT_AT)\n",
        "are_equal_transposes = np.array_equal(AB_transpose, BT_AT)\n",
        "print(\"Are (AB)^T and B^T * A^T equal?\", are_equal_transposes)"
      ],
      "metadata": {
        "colab": {
          "base_uri": "https://localhost:8080/"
        },
        "id": "J2OEL-sZxgnX",
        "outputId": "3facfe75-05d1-47c4-f50d-ce1c5a67e78d"
      },
      "execution_count": 37,
      "outputs": [
        {
          "output_type": "stream",
          "name": "stdout",
          "text": [
            "\n",
            "Task 3: (AB)^T and B^T A^T:\n",
            "Transpose of AB:\n",
            "[[23 51]\n",
            " [13 29]]\n",
            "B^T * A^T:\n",
            "[[23 51]\n",
            " [13 29]]\n",
            "Are (AB)^T and B^T * A^T equal? True\n"
          ]
        }
      ]
    },
    {
      "cell_type": "code",
      "source": [
        "# Task 4: Solve the system of Linear equations using Inverse Method\n",
        "A_matrix = np.array([[2, -3, 1], [1, -1, 2], [3, 1, -1]])\n",
        "B_vector = np.array([-1, -3, 9])\n",
        "\n",
        "A_inv = np.linalg.inv(A_matrix)\n",
        "X = np.dot(A_inv, B_vector)\n",
        "print(\"\\nTask 4: Solving Linear Equation System using Inverse Method:\")\n",
        "print(\"Solution (x, y, z):\")\n",
        "print(X)"
      ],
      "metadata": {
        "colab": {
          "base_uri": "https://localhost:8080/"
        },
        "id": "oJx1CQLUxi2Q",
        "outputId": "2f7b6bc6-0ba1-4174-e75f-8a45a03f94cf"
      },
      "execution_count": 38,
      "outputs": [
        {
          "output_type": "stream",
          "name": "stdout",
          "text": [
            "\n",
            "Task 4: Solving Linear Equation System using Inverse Method:\n",
            "Solution (x, y, z):\n",
            "[ 2.  1. -2.]\n"
          ]
        }
      ]
    },
    {
      "cell_type": "code",
      "source": [
        "# Task 5: Solve the system of Linear equations using np.linalg.inv()\n",
        "X_solution = np.linalg.inv(A_matrix).dot(B_vector)\n",
        "print(\"\\nTask 5: Solve using np.linalg.inv:\")\n",
        "print(\"Solution (x, y, z):\")\n",
        "print(X_solution)"
      ],
      "metadata": {
        "colab": {
          "base_uri": "https://localhost:8080/"
        },
        "id": "czkHq6nqxkmW",
        "outputId": "b0fde64d-5b1c-4f17-fa5e-b846a4360dc2"
      },
      "execution_count": 39,
      "outputs": [
        {
          "output_type": "stream",
          "name": "stdout",
          "text": [
            "\n",
            "Task 5: Solve using np.linalg.inv:\n",
            "Solution (x, y, z):\n",
            "[ 2.  1. -2.]\n"
          ]
        }
      ]
    },
    {
      "cell_type": "markdown",
      "source": [
        "## 10.2"
      ],
      "metadata": {
        "id": "PY5vmXoLxv_u"
      }
    },
    {
      "cell_type": "code",
      "source": [
        "import time\n",
        "import numpy as np\n",
        "\n",
        "# Define the size\n",
        "size = 1000000\n",
        "matrix_size = 1000\n",
        "\n",
        "# 1. Element-wise Addition\n",
        "\n",
        "# Using Python lists\n",
        "list1 = [i for i in range(size)]\n",
        "list2 = [i for i in range(size)]\n",
        "\n",
        "start_time = time.time()\n",
        "list_add = [list1[i] + list2[i] for i in range(size)]\n",
        "python_list_add_time = time.time() - start_time\n",
        "print(f\"Element-wise addition using Python lists took: {python_list_add_time:.6f} seconds.\")\n",
        "\n",
        "# Using Numpy arrays\n",
        "np_array1 = np.arange(size)\n",
        "np_array2 = np.arange(size)\n",
        "\n",
        "start_time = time.time()\n",
        "np_array_add = np_array1 + np_array2\n",
        "numpy_array_add_time = time.time() - start_time\n",
        "print(f\"Element-wise addition using NumPy arrays took: {numpy_array_add_time:.6f} seconds.\")"
      ],
      "metadata": {
        "colab": {
          "base_uri": "https://localhost:8080/"
        },
        "id": "Bt4aYS7UxnNd",
        "outputId": "b76d1cf0-9602-4eb2-ca55-836842c391d7"
      },
      "execution_count": 40,
      "outputs": [
        {
          "output_type": "stream",
          "name": "stdout",
          "text": [
            "Element-wise addition using Python lists took: 0.086349 seconds.\n",
            "Element-wise addition using NumPy arrays took: 0.004924 seconds.\n"
          ]
        }
      ]
    },
    {
      "cell_type": "code",
      "source": [
        "# 2. Element-wise Multiplication\n",
        "\n",
        "# Using Python lists\n",
        "start_time = time.time()\n",
        "list_mul = [list1[i] * list2[i] for i in range(size)]\n",
        "python_list_mul_time = time.time() - start_time\n",
        "print(f\"Element-wise multiplication using Python lists took: {python_list_mul_time:.6f} seconds.\")\n",
        "\n",
        "# Using Numpy arrays\n",
        "start_time = time.time()\n",
        "np_array_mul = np_array1 * np_array2\n",
        "numpy_array_mul_time = time.time() - start_time\n",
        "print(f\"Element-wise multiplication using NumPy arrays took: {numpy_array_mul_time:.6f} seconds.\")"
      ],
      "metadata": {
        "colab": {
          "base_uri": "https://localhost:8080/"
        },
        "id": "ps-ZZI3CzF5T",
        "outputId": "c22263b3-dcdf-49a7-9a8a-a6db9dc23ed7"
      },
      "execution_count": 41,
      "outputs": [
        {
          "output_type": "stream",
          "name": "stdout",
          "text": [
            "Element-wise multiplication using Python lists took: 0.099931 seconds.\n",
            "Element-wise multiplication using NumPy arrays took: 0.005639 seconds.\n"
          ]
        }
      ]
    },
    {
      "cell_type": "code",
      "source": [
        "# 3. Dot Product\n",
        "\n",
        "# Using Python lists\n",
        "start_time = time.time()\n",
        "dot_product_python = sum(list1[i] * list2[i] for i in range(size))\n",
        "python_dot_product_time = time.time() - start_time\n",
        "print(f\"Dot product using Python lists took: {python_dot_product_time:.6f} seconds.\")\n",
        "\n",
        "# Using Numpy arrays\n",
        "start_time = time.time()\n",
        "np_dot_product = np.dot(np_array1, np_array2)\n",
        "numpy_dot_product_time = time.time() - start_time\n",
        "print(f\"Dot product using NumPy arrays took: {numpy_dot_product_time:.6f} seconds.\")"
      ],
      "metadata": {
        "colab": {
          "base_uri": "https://localhost:8080/"
        },
        "id": "qAU_f64vzGdx",
        "outputId": "5c405a2c-1195-4c04-d1a5-335b820d47ce"
      },
      "execution_count": 42,
      "outputs": [
        {
          "output_type": "stream",
          "name": "stdout",
          "text": [
            "Dot product using Python lists took: 0.110162 seconds.\n",
            "Dot product using NumPy arrays took: 0.001981 seconds.\n"
          ]
        }
      ]
    },
    {
      "cell_type": "code",
      "source": [
        "# 4. Matrix Multiplication\n",
        "\n",
        "# Using Python lists\n",
        "matrix1 = [[i+j for j in range(matrix_size)] for i in range(matrix_size)]\n",
        "matrix2 = [[i-j for j in range(matrix_size)] for i in range(matrix_size)]\n",
        "\n",
        "start_time = time.time()\n",
        "matrix_mul_python = [[sum(matrix1[i][k] * matrix2[k][j] for k in range(matrix_size)) for j in range(matrix_size)] for i in range(matrix_size)]\n",
        "python_matrix_mul_time = time.time() - start_time\n",
        "print(f\"Matrix multiplication using Python lists took: {python_matrix_mul_time:.6f} seconds.\")\n",
        "\n",
        "# Using Numpy arrays\n",
        "np_matrix1 = np.random.rand(matrix_size, matrix_size)\n",
        "np_matrix2 = np.random.rand(matrix_size, matrix_size)\n",
        "\n",
        "start_time = time.time()\n",
        "matrix_mul_numpy = np.dot(np_matrix1, np_matrix2)\n",
        "numpy_matrix_mul_time = time.time() - start_time\n",
        "print(f\"Matrix multiplication using NumPy arrays took: {numpy_matrix_mul_time:.6f} seconds.\")"
      ],
      "metadata": {
        "colab": {
          "base_uri": "https://localhost:8080/"
        },
        "id": "e5FjcbI0zIcp",
        "outputId": "72ce85d3-cd6f-40c6-dc65-fbf2de1b0f5f"
      },
      "execution_count": 44,
      "outputs": [
        {
          "output_type": "stream",
          "name": "stdout",
          "text": [
            "Matrix multiplication using Python lists took: 182.535651 seconds.\n",
            "Matrix multiplication using NumPy arrays took: 0.072386 seconds.\n"
          ]
        }
      ]
    }
  ]
}